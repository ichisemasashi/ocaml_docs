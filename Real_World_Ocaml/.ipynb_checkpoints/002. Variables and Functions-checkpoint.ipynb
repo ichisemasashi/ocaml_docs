{
 "cells": [
  {
   "cell_type": "markdown",
   "metadata": {},
   "source": [
    "\n",
    "# Variables\n",
    "## Pattern Matching and let\n",
    "# Functions\n",
    "## Anonymous Functions\n",
    "## Multiargument functions\n",
    "## Recursive Functions\n",
    "## Prefix and Infix Operators\n",
    "## Declaring Functions with function\n",
    "## Labeled Arguments\n",
    "### HIGHER-ORDER FUNCTIONS AND LABELS\n",
    "## Optional Arguments\n",
    "### EXPLICIT PASSING OF AN OPTIONAL ARGUMENT\n",
    "### INFERENCE OF LABELED AND OPTIONAL ARGUMENTS\n",
    "### OPTIONAL ARGUMENTS AND PARTIAL APPLICATION"
   ]
  }
 ],
 "metadata": {
  "kernelspec": {
   "display_name": "ocaml-jupyter",
   "language": "python",
   "name": "ocaml-jupyter"
  },
  "language_info": {
   "codemirror_mode": {
    "name": "ipython",
    "version": 3
   },
   "file_extension": ".py",
   "mimetype": "text/x-python",
   "name": "python",
   "nbconvert_exporter": "python",
   "pygments_lexer": "ipython3",
   "version": "3.6.4"
  }
 },
 "nbformat": 4,
 "nbformat_minor": 2
}
