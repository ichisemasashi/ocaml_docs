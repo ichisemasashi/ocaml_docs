{
 "cells": [
  {
   "cell_type": "markdown",
   "metadata": {},
   "source": [
    "# List Basics\n",
    "# Using Patterns to Extract Data from a List\n",
    "# Limitations (and Blessings) of Pattern Matching\n",
    "## Performance\n",
    "## Detecting Errors\n",
    "# Using the List Module Effectively\n",
    "## More Useful List Functions\n",
    "### COMBINING LIST ELEMENTS WITH LIST.REDUCE\n",
    "### FILTERING WITH LIST.FILTER AND LIST.FILTER_MAP\n",
    "### PARTITIONING WITH LIST.PARTITION_TF\n",
    "### COMBINING LISTS\n",
    "# Tail Recursion\n",
    "# Terser and Faster Patterns"
   ]
  }
 ],
 "metadata": {
  "kernelspec": {
   "display_name": "ocaml-jupyter",
   "language": "python",
   "name": "ocaml-jupyter"
  },
  "language_info": {
   "codemirror_mode": {
    "name": "ipython",
    "version": 3
   },
   "file_extension": ".py",
   "mimetype": "text/x-python",
   "name": "python",
   "nbconvert_exporter": "python",
   "pygments_lexer": "ipython3",
   "version": "3.6.4"
  }
 },
 "nbformat": 4,
 "nbformat_minor": 2
}
