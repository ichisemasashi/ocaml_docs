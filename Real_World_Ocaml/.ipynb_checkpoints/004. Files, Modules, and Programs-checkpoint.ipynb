{
 "cells": [
  {
   "cell_type": "markdown",
   "metadata": {},
   "source": [
    "# Single-File Programs\n",
    "# Multifile Programs and Modules\n",
    "# Signatures and Abstract Types\n",
    "# Concrete Types in Signatures\n",
    "# Nested Modules\n",
    "# Opening Modules\n",
    "# Including Modules\n",
    "# Common Errors with Modules\n",
    "## Type Mismatches\n",
    "## Missing Definitions\n",
    "## Type Definition Mismatches\n",
    "## Cyclic Dependencies\n",
    "# Designing with Modules\n",
    "## Expose Concrete Types Rarely\n",
    "## Design for the Call Site\n",
    "## Create Uniform Interfaces\n",
    "## Interfaces before implementations\n"
   ]
  }
 ],
 "metadata": {
  "kernelspec": {
   "display_name": "ocaml-jupyter",
   "language": "python",
   "name": "ocaml-jupyter"
  },
  "language_info": {
   "codemirror_mode": {
    "name": "ipython",
    "version": 3
   },
   "file_extension": ".py",
   "mimetype": "text/x-python",
   "name": "python",
   "nbconvert_exporter": "python",
   "pygments_lexer": "ipython3",
   "version": "3.6.4"
  }
 },
 "nbformat": 4,
 "nbformat_minor": 2
}
