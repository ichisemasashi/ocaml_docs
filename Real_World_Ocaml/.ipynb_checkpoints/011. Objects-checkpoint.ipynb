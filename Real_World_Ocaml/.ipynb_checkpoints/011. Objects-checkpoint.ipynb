{
 "cells": [
  {
   "cell_type": "markdown",
   "metadata": {},
   "source": [
    "# OCaml Objects\n",
    "# Object Polymorphism\n",
    "# Immutable Objects\n",
    "# When to Use Objects\n",
    "# Subtyping\n",
    "## Width Subtyping\n",
    "## Depth Subtyping\n",
    "## Variance\n",
    "## Narrowing\n",
    "## Subtyping Versus Row Polymorphism"
   ]
  }
 ],
 "metadata": {
  "kernelspec": {
   "display_name": "ocaml-jupyter",
   "language": "python",
   "name": "ocaml-jupyter"
  },
  "language_info": {
   "codemirror_mode": {
    "name": "ipython",
    "version": 3
   },
   "file_extension": ".py",
   "mimetype": "text/x-python",
   "name": "python",
   "nbconvert_exporter": "python",
   "pygments_lexer": "ipython3",
   "version": "3.6.4"
  }
 },
 "nbformat": 4,
 "nbformat_minor": 2
}
