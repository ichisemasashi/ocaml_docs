{
 "cells": [
  {
   "cell_type": "markdown",
   "metadata": {},
   "source": [
    "# OCaml Classes\n",
    "# Class Parameters and Polymorphism\n",
    "# Object Types as Interfaces\n",
    "## Functional Iterators\n",
    "# Inheritance\n",
    "# Class Types\n",
    "# Open Recursion\n",
    "# Private Methods\n",
    "# Binary Methods\n",
    "# Virtual Classes and Methods\n",
    "## Create Some Simple Shapes\n",
    "# Initializers\n",
    "# Multiple Inheritance\n",
    "## How Names Are Resolved\n",
    "## Mixins\n",
    "## Displaying the Animated Shapes"
   ]
  }
 ],
 "metadata": {
  "kernelspec": {
   "display_name": "ocaml-jupyter",
   "language": "python",
   "name": "ocaml-jupyter"
  },
  "language_info": {
   "codemirror_mode": {
    "name": "ipython",
    "version": 3
   },
   "file_extension": ".py",
   "mimetype": "text/x-python",
   "name": "python",
   "nbconvert_exporter": "python",
   "pygments_lexer": "ipython3",
   "version": "3.6.4"
  }
 },
 "nbformat": 4,
 "nbformat_minor": 2
}
