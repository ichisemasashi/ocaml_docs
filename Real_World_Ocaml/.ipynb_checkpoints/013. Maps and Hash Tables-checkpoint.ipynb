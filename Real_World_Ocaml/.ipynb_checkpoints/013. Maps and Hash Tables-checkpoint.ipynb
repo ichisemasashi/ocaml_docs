{
 "cells": [
  {
   "cell_type": "markdown",
   "metadata": {},
   "source": [
    "# Maps\n",
    "## Sets\n",
    "## Modules and Comparators\n",
    "## Why do we need comparator witnesses?\n",
    "## The Polymorphic Comparator\n",
    "## Satisfying Comparator.S with [@@deriving]\n",
    "## Applying [@@deriving] to maps and sets\n",
    "## Trees\n",
    "# Hash Tables\n",
    "# Choosing Between Maps and Hash Tables"
   ]
  }
 ],
 "metadata": {
  "kernelspec": {
   "display_name": "ocaml-jupyter",
   "language": "python",
   "name": "ocaml-jupyter"
  },
  "language_info": {
   "codemirror_mode": {
    "name": "ipython",
    "version": 3
   },
   "file_extension": ".py",
   "mimetype": "text/x-python",
   "name": "python",
   "nbconvert_exporter": "python",
   "pygments_lexer": "ipython3",
   "version": "3.6.4"
  }
 },
 "nbformat": 4,
 "nbformat_minor": 2
}
