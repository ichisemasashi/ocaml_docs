{
 "cells": [
  {
   "cell_type": "markdown",
   "metadata": {},
   "source": [
    "# JSON Basics\n",
    "# Parsing JSON with Yojson\n",
    "# Selecting Values from JSON Structures\n",
    "# Constructing JSON Values\n",
    "# Using Nonstandard JSON Extensions\n",
    "# Automatically Mapping JSON to OCaml Types\n",
    "## ATD Basics\n",
    "## ATD Annotations\n",
    "## Compiling ATD Specifications to OCaml\n",
    "## Example: Querying GitHub Organization Information"
   ]
  }
 ],
 "metadata": {
  "kernelspec": {
   "display_name": "ocaml-jupyter",
   "language": "python",
   "name": "ocaml-jupyter"
  },
  "language_info": {
   "codemirror_mode": {
    "name": "ipython",
    "version": 3
   },
   "file_extension": ".py",
   "mimetype": "text/x-python",
   "name": "python",
   "nbconvert_exporter": "python",
   "pygments_lexer": "ipython3",
   "version": "3.6.4"
  }
 },
 "nbformat": 4,
 "nbformat_minor": 2
}
