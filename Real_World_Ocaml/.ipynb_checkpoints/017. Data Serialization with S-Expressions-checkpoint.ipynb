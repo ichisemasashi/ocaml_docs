{
 "cells": [
  {
   "cell_type": "markdown",
   "metadata": {},
   "source": [
    "# Basic Usage\n",
    "## Generating S-Expressions from OCaml Types\n",
    "# The Sexp Format\n",
    "# Preserving Invariants\n",
    "# Getting Good Error Messages\n",
    "# Sexp-Conversion Directives\n",
    "## sexp_opaque\n",
    "## sexp_list\n",
    "## sexp_option\n",
    "## Specifying Defaults"
   ]
  }
 ],
 "metadata": {
  "kernelspec": {
   "display_name": "ocaml-jupyter",
   "language": "python",
   "name": "ocaml-jupyter"
  },
  "language_info": {
   "codemirror_mode": {
    "name": "ipython",
    "version": 3
   },
   "file_extension": ".py",
   "mimetype": "text/x-python",
   "name": "python",
   "nbconvert_exporter": "python",
   "pygments_lexer": "ipython3",
   "version": "3.6.4"
  }
 },
 "nbformat": 4,
 "nbformat_minor": 2
}
