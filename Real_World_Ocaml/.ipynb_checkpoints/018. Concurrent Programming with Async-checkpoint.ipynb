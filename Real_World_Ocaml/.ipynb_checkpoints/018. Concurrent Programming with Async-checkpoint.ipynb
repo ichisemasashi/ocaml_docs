{
 "cells": [
  {
   "cell_type": "markdown",
   "metadata": {},
   "source": [
    "# Async Basics\n",
    "## Ivars and Upon\n",
    "# Example: An Echo Server\n",
    "## Improving the Echo Server\n",
    "# Example: Searching Definitions with DuckDuckGo\n",
    "## URI Handling\n",
    "## Parsing JSON Strings\n",
    "## Executing an HTTP Client Query\n",
    "# Exception Handling\n",
    "## Monitors\n",
    "## Example: Handling Exceptions with DuckDuckGo\n",
    "# Timeouts, Cancellation, and Choices\n",
    "# Working with System Threads\n",
    "## Thread-Safety and Locking"
   ]
  }
 ],
 "metadata": {
  "kernelspec": {
   "display_name": "ocaml-jupyter",
   "language": "python",
   "name": "ocaml-jupyter"
  },
  "language_info": {
   "codemirror_mode": {
    "name": "ipython",
    "version": 3
   },
   "file_extension": ".py",
   "mimetype": "text/x-python",
   "name": "python",
   "nbconvert_exporter": "python",
   "pygments_lexer": "ipython3",
   "version": "3.6.4"
  }
 },
 "nbformat": 4,
 "nbformat_minor": 2
}
