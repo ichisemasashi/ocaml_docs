{
 "cells": [
  {
   "cell_type": "markdown",
   "metadata": {},
   "source": [
    "# Example: A Terminal Interface\n",
    "# Basic Scalar C Types\n",
    "# Pointers and Arrays\n",
    "## Allocating Typed Memory for Pointers\n",
    "## Using Views to Map Complex Values\n",
    "# Structs and Unions\n",
    "## Defining a Structure\n",
    "## Adding Fields to Structures\n",
    "## Incomplete Structure Definitions\n",
    "### RECAP: A TIME-PRINTING COMMAND\n",
    "## Defining Arrays\n",
    "# Passing Functions to C\n",
    "## Example: A Command-Line Quicksort\n",
    "# Learning More About C Bindings\n",
    "## Struct Memory Layout"
   ]
  }
 ],
 "metadata": {
  "kernelspec": {
   "display_name": "ocaml-jupyter",
   "language": "python",
   "name": "ocaml-jupyter"
  },
  "language_info": {
   "codemirror_mode": {
    "name": "ipython",
    "version": 3
   },
   "file_extension": ".py",
   "mimetype": "text/x-python",
   "name": "python",
   "nbconvert_exporter": "python",
   "pygments_lexer": "ipython3",
   "version": "3.6.4"
  }
 },
 "nbformat": 4,
 "nbformat_minor": 2
}
