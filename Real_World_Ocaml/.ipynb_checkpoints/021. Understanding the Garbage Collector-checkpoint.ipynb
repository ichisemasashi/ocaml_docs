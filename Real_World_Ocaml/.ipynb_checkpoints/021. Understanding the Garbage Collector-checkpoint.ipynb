{
 "cells": [
  {
   "cell_type": "markdown",
   "metadata": {},
   "source": [
    "# Mark and Sweep Garbage Collection\n",
    "# Generational Garbage Collection\n",
    "# The Fast Minor Heap\n",
    "## Allocating on the Minor Heap\n",
    "# The Long-Lived Major Heap\n",
    "## Allocating on the Major Heap\n",
    "## Memory Allocation Strategies\n",
    "### NEXT-FIT ALLOCATION\n",
    "### FIRST-FIT ALLOCATION\n",
    "## Marking and Scanning the Heap\n",
    "## Heap Compaction\n",
    "## Intergenerational Pointers\n",
    "### THE MUTABLE WRITE BARRIER\n",
    "# Attaching Finalizer Functions to Values"
   ]
  }
 ],
 "metadata": {
  "kernelspec": {
   "display_name": "ocaml-jupyter",
   "language": "python",
   "name": "ocaml-jupyter"
  },
  "language_info": {
   "codemirror_mode": {
    "name": "ipython",
    "version": 3
   },
   "file_extension": ".py",
   "mimetype": "text/x-python",
   "name": "python",
   "nbconvert_exporter": "python",
   "pygments_lexer": "ipython3",
   "version": "3.6.4"
  }
 },
 "nbformat": 4,
 "nbformat_minor": 2
}
