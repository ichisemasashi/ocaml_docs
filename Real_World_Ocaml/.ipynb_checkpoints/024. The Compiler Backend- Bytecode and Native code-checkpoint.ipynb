{
 "cells": [
  {
   "cell_type": "markdown",
   "metadata": {},
   "source": [
    "# The Untyped Lambda Form\n",
    "## Pattern Matching Optimization\n",
    "## Benchmarking Pattern Matching\n",
    "# Generating Portable Bytecode\n",
    "## Compiling and Linking Bytecode\n",
    "## Executing Bytecode\n",
    "## Embedding OCaml Bytecode in C\n",
    "# Compiling Fast Native Code\n",
    "## Inspecting Assembly Output\n",
    "### THE IMPACT OF POLYMORPHIC COMPARISON\n",
    "### BENCHMARKING POLYMORPHIC COMPARISON\n",
    "## Debugging Native Code Binaries\n",
    "### UNDERSTANDING NAME MANGLING\n",
    "### INTERACTIVE BREAKPOINTS WITH THE GNU DEBUGGER\n",
    "## Profiling Native Code\n",
    "### GPROF\n",
    "### PERF\n",
    "## Embedding Native Code in C\n",
    "# Summarizing the File Extensions"
   ]
  }
 ],
 "metadata": {
  "kernelspec": {
   "display_name": "ocaml-jupyter",
   "language": "python",
   "name": "ocaml-jupyter"
  },
  "language_info": {
   "codemirror_mode": {
    "name": "ipython",
    "version": 3
   },
   "file_extension": ".py",
   "mimetype": "text/x-python",
   "name": "python",
   "nbconvert_exporter": "python",
   "pygments_lexer": "ipython3",
   "version": "3.6.4"
  }
 },
 "nbformat": 4,
 "nbformat_minor": 2
}
