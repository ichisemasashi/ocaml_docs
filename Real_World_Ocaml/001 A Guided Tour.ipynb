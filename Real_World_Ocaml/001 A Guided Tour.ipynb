{
 "cells": [
  {
   "cell_type": "markdown",
   "metadata": {},
   "source": [
    "This chapter gives an overview of OCaml by walking through a series of small examples that cover most of the major features of the language. This should provide a sense of what OCaml can do, without getting too deep into any one topic.\n",
    "\n",
    "Throughout the book we’re going to use Base, a more full-featured and capable replacement for OCaml’s standard library. We’ll also use utop, a shell that lets you type in expressions and evaluate them interactively. utop is an easier-to-use version of OCaml’s standard toplevel (which you can start by typing ocaml at the command line). These instructions will assume you’re using utop, but the ordinary toplevel should mostly work fine.\n",
    "\n",
    "--------------\n",
    "## Base, Core and Core_kernel\n",
    "\n",
    "Base is one of a family of three standard library replacements, each with different use-cases, each building on the last. Here’s a quick summary.\n",
    "\n",
    "Base is designed to provide the fundamentals needed from a standard library. It has a variety of basic efficient data structures like hash-tables, sets and sequences. It also defines the basic idioms for error handling and serialization, and contains well organized APIs for every basic data type from integers to lazy values. This is comes along with a minimum of external dependencies, so Base just takes seconds to build and install. It’s also portable, running on every platform that OCaml does, including Windows and JavaScript.\n",
    "Core_kernel extends Base with many new data structures, like heaps, and other capabilities, like types to represent times and time-zones, and support for efficient binary serializers. It’s still portable, but has many more dependencies, takes longer to build, and will add more to the size of your executables.\n",
    "Core is the most full-featured, extending Core_kernel with support for a variety of UNIX APIs, but only works on UNIX-like OSs, including Linux and macOS.\n",
    "We use Base in this section, but you should check out Core and Core_kernel, depending on your requirements. We’ll discuss some of the additional functionality provided by Core and Core_kernel later in the book.\n",
    "\n",
    "--------------\n",
    "\n",
    "Before getting started, make sure you have a working OCaml installation so you can try out the examples as you read through the chapter.\n",
    "\n",
    "# OCaml as a Calculator\n",
    "\n",
    "Our first step is to open Base:  \n",
    "\n",
    "# Functions and Type Inference\n",
    "## Type Inference\n",
    "## Inferring Generic Types\n",
    "# Tuples, Lists, Options, and Pattern Matching\n",
    "## Tuples\n",
    "## Lists\n",
    "### THE LIST MODULE\n",
    "### CONSTRUCTING LISTS WITH ::\n",
    "### LIST PATTERNS USING MATCH\n",
    "### RECURSIVE LIST FUNCTIONS\n",
    "## Options\n",
    "# Records and Variants\n",
    "# Imperative Programming\n",
    "## Arrays\n",
    "## Mutable Record Fields\n",
    "## Refs\n",
    "## For and While Loops\n",
    "# A Complete Program\n",
    "## Compiling and Running\n",
    "# Where to Go from Here"
   ]
  },
  {
   "cell_type": "code",
   "execution_count": 1,
   "metadata": {},
   "outputs": [
    {
     "ename": "SyntaxError",
     "evalue": "invalid syntax (<ipython-input-1-a1b59068b097>, line 1)",
     "output_type": "error",
     "traceback": [
      "\u001b[0;36m  File \u001b[0;32m\"<ipython-input-1-a1b59068b097>\"\u001b[0;36m, line \u001b[0;32m1\u001b[0m\n\u001b[0;31m    open Base;;\u001b[0m\n\u001b[0m            ^\u001b[0m\n\u001b[0;31mSyntaxError\u001b[0m\u001b[0;31m:\u001b[0m invalid syntax\n"
     ]
    }
   ],
   "source": [
    "open Base;;"
   ]
  }
 ],
 "metadata": {
  "kernelspec": {
   "display_name": "ocaml-jupyter",
   "language": "python",
   "name": "ocaml-jupyter"
  },
  "language_info": {
   "codemirror_mode": {
    "name": "ipython",
    "version": 3
   },
   "file_extension": ".py",
   "mimetype": "text/x-python",
   "name": "python",
   "nbconvert_exporter": "python",
   "pygments_lexer": "ipython3",
   "version": "3.6.4"
  }
 },
 "nbformat": 4,
 "nbformat_minor": 2
}
