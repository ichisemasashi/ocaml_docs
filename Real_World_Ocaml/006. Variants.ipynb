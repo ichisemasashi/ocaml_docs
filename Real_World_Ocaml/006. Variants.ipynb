{
 "cells": [
  {
   "cell_type": "markdown",
   "metadata": {},
   "source": [
    "# Catch-All Cases and Refactoring\n",
    "# Combining Records and Variants\n",
    "## Embedded records\n",
    "# Variants and Recursive Data Structures\n",
    "# Polymorphic Variants\n",
    "## Example: Terminal Colors Redux\n",
    "## When to Use Polymorphic Variants"
   ]
  }
 ],
 "metadata": {
  "kernelspec": {
   "display_name": "ocaml-jupyter",
   "language": "python",
   "name": "ocaml-jupyter"
  },
  "language_info": {
   "codemirror_mode": {
    "name": "ipython",
    "version": 3
   },
   "file_extension": ".py",
   "mimetype": "text/x-python",
   "name": "python",
   "nbconvert_exporter": "python",
   "pygments_lexer": "ipython3",
   "version": "3.6.4"
  }
 },
 "nbformat": 4,
 "nbformat_minor": 2
}
