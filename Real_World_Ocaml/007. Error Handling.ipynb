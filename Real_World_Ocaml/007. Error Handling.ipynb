{
 "cells": [
  {
   "cell_type": "markdown",
   "metadata": {},
   "source": [
    "# Error-Aware Return Types\n",
    "## Encoding Errors with Result\n",
    "## Error and Or_error\n",
    "## bind and Other Error Handling Idioms\n",
    "# Exceptions\n",
    "## Helper Functions for Throwing Exceptions\n",
    "## Exception Handlers\n",
    "## Cleaning Up in the Presence of Exceptions\n",
    "## Catching Specific Exceptions\n",
    "## Backtraces\n",
    "## From Exceptions to Error-Aware Types and Back Again\n",
    "# Choosing an Error-Handling Strategy"
   ]
  }
 ],
 "metadata": {
  "kernelspec": {
   "display_name": "ocaml-jupyter",
   "language": "python",
   "name": "ocaml-jupyter"
  },
  "language_info": {
   "codemirror_mode": {
    "name": "ipython",
    "version": 3
   },
   "file_extension": ".py",
   "mimetype": "text/x-python",
   "name": "python",
   "nbconvert_exporter": "python",
   "pygments_lexer": "ipython3",
   "version": "3.6.4"
  }
 },
 "nbformat": 4,
 "nbformat_minor": 2
}
