{
 "cells": [
  {
   "cell_type": "markdown",
   "metadata": {},
   "source": [
    "# Example: Imperative Dictionaries\n",
    "# Primitive Mutable Data\n",
    "## Array-Like Data\n",
    "### ORDINARY ARRAYS\n",
    "### STRINGS\n",
    "### BIGARRAYS\n",
    "## Mutable Record and Object Fields and Ref Cells\n",
    "### REF CELLS\n",
    "## Foreign Functions\n",
    "# for and while Loops\n",
    "# Example: Doubly Linked Lists\n",
    "## Modifying the List\n",
    "## Iteration Functions\n",
    "# Laziness and Other Benign Effects\n",
    "## Memoization and Dynamic Programming\n",
    "# Input and Output\n",
    "## Terminal I/O\n",
    "## Formatted Output with printf\n",
    "## File I/O\n",
    "# Order of Evaluation\n",
    "# Side Effects and Weak Polymorphism\n",
    "## The Value Restriction\n",
    "## Partial Application and the Value Restriction\n",
    "## Relaxing the Value Restriction\n",
    "# Summary"
   ]
  }
 ],
 "metadata": {
  "kernelspec": {
   "display_name": "ocaml-jupyter",
   "language": "python",
   "name": "ocaml-jupyter"
  },
  "language_info": {
   "codemirror_mode": {
    "name": "ipython",
    "version": 3
   },
   "file_extension": ".py",
   "mimetype": "text/x-python",
   "name": "python",
   "nbconvert_exporter": "python",
   "pygments_lexer": "ipython3",
   "version": "3.6.4"
  }
 },
 "nbformat": 4,
 "nbformat_minor": 2
}
