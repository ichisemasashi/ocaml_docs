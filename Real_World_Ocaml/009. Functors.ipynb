{
 "cells": [
  {
   "cell_type": "markdown",
   "metadata": {},
   "source": [
    "# A Trivial Example\n",
    "# A Bigger Example: Computing with Intervals\n",
    "## Making the Functor Abstract\n",
    "## Sharing Constraints\n",
    "## Destructive Substitution\n",
    "## Using Multiple Interfaces\n",
    "# Extending Modules"
   ]
  }
 ],
 "metadata": {
  "kernelspec": {
   "display_name": "ocaml-jupyter",
   "language": "python",
   "name": "ocaml-jupyter"
  },
  "language_info": {
   "codemirror_mode": {
    "name": "ipython",
    "version": 3
   },
   "file_extension": ".py",
   "mimetype": "text/x-python",
   "name": "python",
   "nbconvert_exporter": "python",
   "pygments_lexer": "ipython3",
   "version": "3.6.4"
  }
 },
 "nbformat": 4,
 "nbformat_minor": 2
}
