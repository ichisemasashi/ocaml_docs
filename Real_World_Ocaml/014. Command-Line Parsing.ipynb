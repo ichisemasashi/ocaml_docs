{
 "cells": [
  {
   "cell_type": "markdown",
   "metadata": {},
   "source": [
    "# Basic Command-Line Parsing\n",
    "## Defining an anonymous argument\n",
    "## Defining basic commands\n",
    "## Running commands\n",
    "## Multi-argument commands\n",
    "# Argument Types\n",
    "## Defining Custom Argument Types\n",
    "## Optional and Default Arguments\n",
    "## Sequences of Arguments\n",
    "# Adding Labeled Flags\n",
    "# Grouping Subcommands Together\n",
    "# Prompting for Interactive Input\n",
    "# Command-Line Autocompletion with bash\n",
    "## Generating Completion Fragments from Command\n",
    "## Installing the Completion Fragment\n",
    "# Alternative Command-Line Parsers"
   ]
  }
 ],
 "metadata": {
  "kernelspec": {
   "display_name": "ocaml-jupyter",
   "language": "python",
   "name": "ocaml-jupyter"
  },
  "language_info": {
   "codemirror_mode": {
    "name": "ipython",
    "version": 3
   },
   "file_extension": ".py",
   "mimetype": "text/x-python",
   "name": "python",
   "nbconvert_exporter": "python",
   "pygments_lexer": "ipython3",
   "version": "3.6.4"
  }
 },
 "nbformat": 4,
 "nbformat_minor": 2
}
