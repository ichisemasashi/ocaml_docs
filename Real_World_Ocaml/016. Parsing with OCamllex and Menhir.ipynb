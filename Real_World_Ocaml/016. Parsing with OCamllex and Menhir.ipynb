{
 "cells": [
  {
   "cell_type": "markdown",
   "metadata": {},
   "source": [
    "# Lexing and Parsing\n",
    "# Defining a Parser\n",
    "## Describing the Grammar\n",
    "## Parsing Sequences\n",
    "# Defining a Lexer\n",
    "## OCaml Prelude\n",
    "## Regular Expressions\n",
    "## Lexing Rules\n",
    "## Recursive Rules\n",
    "# Bringing It All Together"
   ]
  }
 ],
 "metadata": {
  "kernelspec": {
   "display_name": "ocaml-jupyter",
   "language": "python",
   "name": "ocaml-jupyter"
  },
  "language_info": {
   "codemirror_mode": {
    "name": "ipython",
    "version": 3
   },
   "file_extension": ".py",
   "mimetype": "text/x-python",
   "name": "python",
   "nbconvert_exporter": "python",
   "pygments_lexer": "ipython3",
   "version": "3.6.4"
  }
 },
 "nbformat": 4,
 "nbformat_minor": 2
}
