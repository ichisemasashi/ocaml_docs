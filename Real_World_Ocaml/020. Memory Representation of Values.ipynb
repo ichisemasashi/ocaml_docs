{
 "cells": [
  {
   "cell_type": "markdown",
   "metadata": {},
   "source": [
    "# OCaml Blocks and Values\n",
    "## Distinguishing Integers and Pointers at Runtime\n",
    "# Blocks and Values\n",
    "## Integers, Characters, and Other Basic Types\n",
    "# Tuples, Records, and Arrays\n",
    "## Floating-Point Numbers and Arrays\n",
    "# Variants and Lists\n",
    "# Polymorphic Variants\n",
    "# String Values\n",
    "# Custom Heap Blocks\n",
    "## Managing External Memory with Bigarray"
   ]
  }
 ],
 "metadata": {
  "kernelspec": {
   "display_name": "ocaml-jupyter",
   "language": "python",
   "name": "ocaml-jupyter"
  },
  "language_info": {
   "codemirror_mode": {
    "name": "ipython",
    "version": 3
   },
   "file_extension": ".py",
   "mimetype": "text/x-python",
   "name": "python",
   "nbconvert_exporter": "python",
   "pygments_lexer": "ipython3",
   "version": "3.6.4"
  }
 },
 "nbformat": 4,
 "nbformat_minor": 2
}
