{
 "cells": [
  {
   "cell_type": "markdown",
   "metadata": {},
   "source": [
    "# An Overview of the Toolchain\n",
    "# Parsing Source Code\n",
    "## Syntax Errors\n",
    "## Automatically Indenting Source Code\n",
    "## Generating Documentation from Interfaces\n",
    "# Static Type Checking\n",
    "## Displaying Inferred Types from the Compiler\n",
    "## Type Inference\n",
    "### ADDING TYPE ANNOTATIONS TO FIND ERRORS\n",
    "### ENFORCING PRINCIPAL TYPING\n",
    "## Modules and Separate Compilation\n",
    "### THE MAPPING BETWEEN FILES AND MODULES\n",
    "### DEFINING A MODULE SEARCH PATH\n",
    "## Packing Modules Together\n",
    "## Shorter Module Paths in Type Errors\n",
    "# The Typed Syntax Tree\n",
    "## Using ocp-index for Autocompletion\n",
    "## Examining the Typed Syntax Tree Directly"
   ]
  }
 ],
 "metadata": {
  "kernelspec": {
   "display_name": "ocaml-jupyter",
   "language": "python",
   "name": "ocaml-jupyter"
  },
  "language_info": {
   "codemirror_mode": {
    "name": "ipython",
    "version": 3
   },
   "file_extension": ".py",
   "mimetype": "text/x-python",
   "name": "python",
   "nbconvert_exporter": "python",
   "pygments_lexer": "ipython3",
   "version": "3.6.4"
  }
 },
 "nbformat": 4,
 "nbformat_minor": 2
}
